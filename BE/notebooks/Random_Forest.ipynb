{
  "cells": [
    {
      "cell_type": "code",
      "execution_count": 1,
      "metadata": {
        "colab": {
          "base_uri": "https://localhost:8080/",
          "height": 299
        },
        "id": "yShAke0Gj9EH",
        "outputId": "4057b72d-c082-4d56-e7fa-e07ba6279e87"
      },
      "outputs": [
        {
          "ename": "ModuleNotFoundError",
          "evalue": "No module named 'pandas'",
          "output_type": "error",
          "traceback": [
            "\u001b[31m---------------------------------------------------------------------------\u001b[39m",
            "\u001b[31mModuleNotFoundError\u001b[39m                       Traceback (most recent call last)",
            "\u001b[36mCell\u001b[39m\u001b[36m \u001b[39m\u001b[32mIn[1]\u001b[39m\u001b[32m, line 1\u001b[39m\n\u001b[32m----> \u001b[39m\u001b[32m1\u001b[39m \u001b[38;5;28;01mimport\u001b[39;00m\u001b[38;5;250m \u001b[39m\u001b[34;01mpandas\u001b[39;00m\u001b[38;5;250m \u001b[39m\u001b[38;5;28;01mas\u001b[39;00m\u001b[38;5;250m \u001b[39m\u001b[34;01mpd\u001b[39;00m\n\u001b[32m      2\u001b[39m \u001b[38;5;66;03m# Đẩy file dữ liệu chuẩn hóa lên\u001b[39;00m\n\u001b[32m      3\u001b[39m uploaded = files.upload()\n",
            "\u001b[31mModuleNotFoundError\u001b[39m: No module named 'pandas'"
          ]
        }
      ],
      "source": [
        "import pandas as pd\n",
        "# Đẩy file dữ liệu chuẩn hóa lên\n",
        "uploaded = files.upload()\n",
        "df = pd.read_csv('ppg_bp_normalized_standard_with_categories.csv')\n",
        "df.head()\n",
        "\n"
      ]
    },
    {
      "cell_type": "code",
      "execution_count": null,
      "metadata": {
        "colab": {
          "base_uri": "https://localhost:8080/"
        },
        "id": "jXlkiqSVkpJ2",
        "outputId": "52b0edef-99a4-4994-ac4b-7e0ac732901f"
      },
      "outputs": [
        {
          "name": "stdout",
          "output_type": "stream",
          "text": [
            "✅ Dữ liệu gốc: (219, 16)\n",
            "Hypertension\n",
            "1    85\n",
            "0    80\n",
            "2    34\n",
            "3    20\n",
            "Name: count, dtype: int64\n",
            "✅ Đã chia train/test\n",
            "📊 Phân bố lớp ban đầu:\n",
            "Hypertension\n",
            "1    68\n",
            "0    64\n",
            "2    27\n",
            "3    16\n",
            "Name: count, dtype: int64\n",
            "📊 Phân bố lớp sau SMOTE:\n",
            "Hypertension\n",
            "3    68\n",
            "0    68\n",
            "1    68\n",
            "2    68\n",
            "Name: count, dtype: int64\n",
            "⏳ Đang tìm tham số tối ưu...\n",
            "Fitting 3 folds for each of 24 candidates, totalling 72 fits\n"
          ]
        }
      ],
      "source": [
        "import pandas as pd\n",
        "import numpy as np\n",
        "import matplotlib.pyplot as plt\n",
        "from sklearn.model_selection import train_test_split, GridSearchCV\n",
        "from sklearn.ensemble import RandomForestClassifier\n",
        "from sklearn.metrics import classification_report, confusion_matrix, accuracy_score\n",
        "from imblearn.over_sampling import SMOTE\n",
        "\n",
        "# === 2. Chuẩn bị dữ liệu ===\n",
        "target = 'Hypertension'\n",
        "features = [col for col in df.columns if col not in ['Num', 'subject_ID', target]]\n",
        "\n",
        "X = df[features]\n",
        "y = df[target]\n",
        "\n",
        "print(\"✅ Dữ liệu gốc:\", X.shape)\n",
        "print(y.value_counts())\n",
        "\n",
        "# === 3. Chia tập train/test ===\n",
        "X_train, X_test, y_train, y_test = train_test_split(\n",
        "    X, y, test_size=0.2, stratify=y, random_state=42\n",
        ")\n",
        "print(\"✅ Đã chia train/test\")\n",
        "\n",
        "# === 4. Cân bằng dữ liệu bằng SMOTE ===\n",
        "# 👉 Chỉ oversample lớp hiếm (ví dụ lớp 3)\n",
        "# Đầu tiên in phân bố để xem lớp nào cần tăng\n",
        "print(\"📊 Phân bố lớp ban đầu:\")\n",
        "print(y_train.value_counts())\n",
        "\n",
        "sm = SMOTE(random_state=42, sampling_strategy='auto')  # auto = tất cả lớp hiếm được tăng\n",
        "X_res, y_res = sm.fit_resample(X_train, y_train)\n",
        "\n",
        "print(\"📊 Phân bố lớp sau SMOTE:\")\n",
        "print(y_res.value_counts())\n",
        "\n",
        "# === 5. Huấn luyện Random Forest (tối ưu tham số cơ bản) ===\n",
        "param_grid = {\n",
        "    'n_estimators': [200, 300],         # đủ để tăng độ chính xác, không quá nặng\n",
        "    'max_depth': [10, 12, None],\n",
        "    'min_samples_split': [2, 4],\n",
        "    'min_samples_leaf': [1, 2],\n",
        "    'class_weight': ['balanced']        # giúp cân bằng giữa các lớp\n",
        "}\n",
        "\n",
        "grid = GridSearchCV(\n",
        "    RandomForestClassifier(random_state=42, n_jobs=-1),\n",
        "    param_grid,\n",
        "    cv=3,                               # giảm xuống 3-fold để nhanh hơn trên Colab\n",
        "    scoring='f1_macro',\n",
        "    verbose=2,\n",
        "    n_jobs=-1\n",
        ")\n",
        "\n",
        "print(\"⏳ Đang tìm tham số tối ưu...\")\n",
        "grid.fit(X_res, y_res)\n",
        "\n",
        "rf = grid.best_estimator_\n",
        "print(\"✅ Tham số tối ưu:\", grid.best_params_)\n",
        "\n",
        "# === 6. Đánh giá mô hình ===\n",
        "y_pred = rf.predict(X_test)\n",
        "acc = accuracy_score(y_test, y_pred)\n",
        "print(f\"\\n🎯 Độ chính xác: {acc*100:.2f}%\")\n",
        "print(\"\\n📊 Báo cáo phân loại:\")\n",
        "print(classification_report(y_test, y_pred))\n",
        "print(\"\\n🧩 Ma trận nhầm lẫn:\")\n",
        "print(confusion_matrix(y_test, y_pred))\n",
        "\n",
        "# === 7. Hiển thị độ quan trọng đặc trưng ===\n",
        "importances = rf.feature_importances_\n",
        "indices = np.argsort(importances)[::-1]\n",
        "\n",
        "plt.figure(figsize=(10,6))\n",
        "plt.title(\"Độ quan trọng của các đặc trưng (Feature Importance)\")\n",
        "plt.bar(range(len(importances)), importances[indices])\n",
        "plt.xticks(range(len(importances)), [features[i] for i in indices], rotation=90)\n",
        "plt.tight_layout()\n",
        "plt.show()\n",
        "\n",
        "print(\"🏁 Huấn luyện hoàn tất!\")\n"
      ]
    },
    {
      "cell_type": "code",
      "execution_count": null,
      "metadata": {
        "colab": {
          "base_uri": "https://localhost:8080/"
        },
        "id": "M1SqVsvBk5U0",
        "outputId": "5149582d-90c4-4f30-8866-1349f7287246"
      },
      "outputs": [
        {
          "name": "stdout",
          "output_type": "stream",
          "text": [
            "Requirement already satisfied: gradio in /usr/local/lib/python3.12/dist-packages (5.49.1)\n",
            "Requirement already satisfied: aiofiles<25.0,>=22.0 in /usr/local/lib/python3.12/dist-packages (from gradio) (24.1.0)\n",
            "Requirement already satisfied: anyio<5.0,>=3.0 in /usr/local/lib/python3.12/dist-packages (from gradio) (4.11.0)\n",
            "Requirement already satisfied: brotli>=1.1.0 in /usr/local/lib/python3.12/dist-packages (from gradio) (1.1.0)\n",
            "Requirement already satisfied: fastapi<1.0,>=0.115.2 in /usr/local/lib/python3.12/dist-packages (from gradio) (0.119.1)\n",
            "Requirement already satisfied: ffmpy in /usr/local/lib/python3.12/dist-packages (from gradio) (0.6.3)\n",
            "Requirement already satisfied: gradio-client==1.13.3 in /usr/local/lib/python3.12/dist-packages (from gradio) (1.13.3)\n",
            "Requirement already satisfied: groovy~=0.1 in /usr/local/lib/python3.12/dist-packages (from gradio) (0.1.2)\n",
            "Requirement already satisfied: httpx<1.0,>=0.24.1 in /usr/local/lib/python3.12/dist-packages (from gradio) (0.28.1)\n",
            "Requirement already satisfied: huggingface-hub<2.0,>=0.33.5 in /usr/local/lib/python3.12/dist-packages (from gradio) (0.35.3)\n",
            "Requirement already satisfied: jinja2<4.0 in /usr/local/lib/python3.12/dist-packages (from gradio) (3.1.6)\n",
            "Requirement already satisfied: markupsafe<4.0,>=2.0 in /usr/local/lib/python3.12/dist-packages (from gradio) (3.0.3)\n",
            "Requirement already satisfied: numpy<3.0,>=1.0 in /usr/local/lib/python3.12/dist-packages (from gradio) (2.0.2)\n",
            "Requirement already satisfied: orjson~=3.0 in /usr/local/lib/python3.12/dist-packages (from gradio) (3.11.3)\n",
            "Requirement already satisfied: packaging in /usr/local/lib/python3.12/dist-packages (from gradio) (25.0)\n",
            "Requirement already satisfied: pandas<3.0,>=1.0 in /usr/local/lib/python3.12/dist-packages (from gradio) (2.2.2)\n",
            "Requirement already satisfied: pillow<12.0,>=8.0 in /usr/local/lib/python3.12/dist-packages (from gradio) (11.3.0)\n",
            "Requirement already satisfied: pydantic<2.12,>=2.0 in /usr/local/lib/python3.12/dist-packages (from gradio) (2.11.10)\n",
            "Requirement already satisfied: pydub in /usr/local/lib/python3.12/dist-packages (from gradio) (0.25.1)\n",
            "Requirement already satisfied: python-multipart>=0.0.18 in /usr/local/lib/python3.12/dist-packages (from gradio) (0.0.20)\n",
            "Requirement already satisfied: pyyaml<7.0,>=5.0 in /usr/local/lib/python3.12/dist-packages (from gradio) (6.0.3)\n",
            "Requirement already satisfied: ruff>=0.9.3 in /usr/local/lib/python3.12/dist-packages (from gradio) (0.14.1)\n",
            "Requirement already satisfied: safehttpx<0.2.0,>=0.1.6 in /usr/local/lib/python3.12/dist-packages (from gradio) (0.1.6)\n",
            "Requirement already satisfied: semantic-version~=2.0 in /usr/local/lib/python3.12/dist-packages (from gradio) (2.10.0)\n",
            "Requirement already satisfied: starlette<1.0,>=0.40.0 in /usr/local/lib/python3.12/dist-packages (from gradio) (0.48.0)\n",
            "Requirement already satisfied: tomlkit<0.14.0,>=0.12.0 in /usr/local/lib/python3.12/dist-packages (from gradio) (0.13.3)\n",
            "Requirement already satisfied: typer<1.0,>=0.12 in /usr/local/lib/python3.12/dist-packages (from gradio) (0.20.0)\n",
            "Requirement already satisfied: typing-extensions~=4.0 in /usr/local/lib/python3.12/dist-packages (from gradio) (4.15.0)\n",
            "Requirement already satisfied: uvicorn>=0.14.0 in /usr/local/lib/python3.12/dist-packages (from gradio) (0.38.0)\n",
            "Requirement already satisfied: fsspec in /usr/local/lib/python3.12/dist-packages (from gradio-client==1.13.3->gradio) (2025.3.0)\n",
            "Requirement already satisfied: websockets<16.0,>=13.0 in /usr/local/lib/python3.12/dist-packages (from gradio-client==1.13.3->gradio) (15.0.1)\n",
            "Requirement already satisfied: idna>=2.8 in /usr/local/lib/python3.12/dist-packages (from anyio<5.0,>=3.0->gradio) (3.11)\n",
            "Requirement already satisfied: sniffio>=1.1 in /usr/local/lib/python3.12/dist-packages (from anyio<5.0,>=3.0->gradio) (1.3.1)\n",
            "Requirement already satisfied: certifi in /usr/local/lib/python3.12/dist-packages (from httpx<1.0,>=0.24.1->gradio) (2025.10.5)\n",
            "Requirement already satisfied: httpcore==1.* in /usr/local/lib/python3.12/dist-packages (from httpx<1.0,>=0.24.1->gradio) (1.0.9)\n",
            "Requirement already satisfied: h11>=0.16 in /usr/local/lib/python3.12/dist-packages (from httpcore==1.*->httpx<1.0,>=0.24.1->gradio) (0.16.0)\n",
            "Requirement already satisfied: filelock in /usr/local/lib/python3.12/dist-packages (from huggingface-hub<2.0,>=0.33.5->gradio) (3.20.0)\n",
            "Requirement already satisfied: requests in /usr/local/lib/python3.12/dist-packages (from huggingface-hub<2.0,>=0.33.5->gradio) (2.32.4)\n",
            "Requirement already satisfied: tqdm>=4.42.1 in /usr/local/lib/python3.12/dist-packages (from huggingface-hub<2.0,>=0.33.5->gradio) (4.67.1)\n",
            "Requirement already satisfied: hf-xet<2.0.0,>=1.1.3 in /usr/local/lib/python3.12/dist-packages (from huggingface-hub<2.0,>=0.33.5->gradio) (1.1.10)\n",
            "Requirement already satisfied: python-dateutil>=2.8.2 in /usr/local/lib/python3.12/dist-packages (from pandas<3.0,>=1.0->gradio) (2.9.0.post0)\n",
            "Requirement already satisfied: pytz>=2020.1 in /usr/local/lib/python3.12/dist-packages (from pandas<3.0,>=1.0->gradio) (2025.2)\n",
            "Requirement already satisfied: tzdata>=2022.7 in /usr/local/lib/python3.12/dist-packages (from pandas<3.0,>=1.0->gradio) (2025.2)\n",
            "Requirement already satisfied: annotated-types>=0.6.0 in /usr/local/lib/python3.12/dist-packages (from pydantic<2.12,>=2.0->gradio) (0.7.0)\n",
            "Requirement already satisfied: pydantic-core==2.33.2 in /usr/local/lib/python3.12/dist-packages (from pydantic<2.12,>=2.0->gradio) (2.33.2)\n",
            "Requirement already satisfied: typing-inspection>=0.4.0 in /usr/local/lib/python3.12/dist-packages (from pydantic<2.12,>=2.0->gradio) (0.4.2)\n",
            "Requirement already satisfied: click>=8.0.0 in /usr/local/lib/python3.12/dist-packages (from typer<1.0,>=0.12->gradio) (8.3.0)\n",
            "Requirement already satisfied: shellingham>=1.3.0 in /usr/local/lib/python3.12/dist-packages (from typer<1.0,>=0.12->gradio) (1.5.4)\n",
            "Requirement already satisfied: rich>=10.11.0 in /usr/local/lib/python3.12/dist-packages (from typer<1.0,>=0.12->gradio) (13.9.4)\n",
            "Requirement already satisfied: six>=1.5 in /usr/local/lib/python3.12/dist-packages (from python-dateutil>=2.8.2->pandas<3.0,>=1.0->gradio) (1.17.0)\n",
            "Requirement already satisfied: markdown-it-py>=2.2.0 in /usr/local/lib/python3.12/dist-packages (from rich>=10.11.0->typer<1.0,>=0.12->gradio) (4.0.0)\n",
            "Requirement already satisfied: pygments<3.0.0,>=2.13.0 in /usr/local/lib/python3.12/dist-packages (from rich>=10.11.0->typer<1.0,>=0.12->gradio) (2.19.2)\n",
            "Requirement already satisfied: charset_normalizer<4,>=2 in /usr/local/lib/python3.12/dist-packages (from requests->huggingface-hub<2.0,>=0.33.5->gradio) (3.4.4)\n",
            "Requirement already satisfied: urllib3<3,>=1.21.1 in /usr/local/lib/python3.12/dist-packages (from requests->huggingface-hub<2.0,>=0.33.5->gradio) (2.5.0)\n",
            "Requirement already satisfied: mdurl~=0.1 in /usr/local/lib/python3.12/dist-packages (from markdown-it-py>=2.2.0->rich>=10.11.0->typer<1.0,>=0.12->gradio) (0.1.2)\n"
          ]
        }
      ],
      "source": [
        "!pip install gradio\n"
      ]
    },
    {
      "cell_type": "code",
      "execution_count": null,
      "metadata": {
        "colab": {
          "base_uri": "https://localhost:8080/",
          "height": 611
        },
        "id": "BnvhujSSlF6C",
        "outputId": "2961d956-9985-4d06-a5d4-b93356246fbd"
      },
      "outputs": [
        {
          "name": "stdout",
          "output_type": "stream",
          "text": [
            "Colab notebook detected. To show errors in colab notebook, set debug=True in launch()\n",
            "* Running on public URL: https://804955acefb4ba5d46.gradio.live\n",
            "\n",
            "This share link expires in 1 week. For free permanent hosting and GPU upgrades, run `gradio deploy` from the terminal in the working directory to deploy to Hugging Face Spaces (https://huggingface.co/spaces)\n"
          ]
        },
        {
          "data": {
            "text/html": [
              "<div><iframe src=\"https://804955acefb4ba5d46.gradio.live\" width=\"100%\" height=\"500\" allow=\"autoplay; camera; microphone; clipboard-read; clipboard-write;\" frameborder=\"0\" allowfullscreen></iframe></div>"
            ],
            "text/plain": [
              "<IPython.core.display.HTML object>"
            ]
          },
          "metadata": {},
          "output_type": "display_data"
        },
        {
          "data": {
            "text/plain": []
          },
          "execution_count": 13,
          "metadata": {},
          "output_type": "execute_result"
        }
      ],
      "source": [
        "import gradio as gr\n",
        "import pandas as pd\n",
        "\n",
        "# ✅ Hàm dự đoán — dùng mô hình rf đã huấn luyện sẵn\n",
        "def predict_hypertension(Sex, Age, Height, Weight, Systolic_BP, Diastolic_BP, Heart_Rate, BMI,\n",
        "                         Diabetes_Diabetes, Diabetes_None, Diabetes_Type2,\n",
        "                         Cerebral_infarction_None, Cerebral_infarction_infarction,\n",
        "                         Cerebrovascular_None, Cerebrovascular_disease, Cerebrovascular_insuff):\n",
        "\n",
        "    # 🔧 Đặt đúng tên cột — phải khớp 100% với cột trong X_train của bạn\n",
        "    input_data = pd.DataFrame([[\n",
        "        Sex, Age, Height, Weight, Systolic_BP, Diastolic_BP, Heart_Rate, BMI,\n",
        "        int(Diabetes_Diabetes), int(Diabetes_None), int(Diabetes_Type2),\n",
        "        int(Cerebral_infarction_None), int(Cerebral_infarction_infarction),\n",
        "        int(Cerebrovascular_None), int(Cerebrovascular_disease), int(Cerebrovascular_insuff)\n",
        "    ]], columns=[\n",
        "        'Sex','Age','Height','Weight','Systolic_BP','Diastolic_BP','Heart_Rate','BMI',\n",
        "        'Diabetes_Diabetes','Diabetes_None','Diabetes_Type 2 Diabetes',\n",
        "        'Cerebral_infarction_None','Cerebral_infarction_cerebral infarction',\n",
        "        'Cerebrovascular_disease_None','Cerebrovascular_disease_cerebrovascular disease',\n",
        "        'Cerebrovascular_disease_insufficiency of cerebral blood supply'\n",
        "    ])\n",
        "\n",
        "    # ✅ Dự đoán lớp\n",
        "    pred = int(rf.predict(input_data)[0])\n",
        "\n",
        "    # ✅ Nếu mô hình có predict_proba (multi-class)\n",
        "    if hasattr(rf, \"predict_proba\"):\n",
        "        proba = rf.predict_proba(input_data)[0]\n",
        "        # lấy xác suất cao nhất\n",
        "        prob_max = proba[pred]\n",
        "    else:\n",
        "        prob_max = 0\n",
        "\n",
        "    # ✅ Map ngược lại nhãn\n",
        "    label_map = {\n",
        "        0: \"Bình thường (Normal)\",\n",
        "        1: \"Tiền tăng huyết áp (Prehypertension)\",\n",
        "        2: \"Tăng huyết áp giai đoạn 1 (Stage 1 Hypertension)\",\n",
        "        3: \"Tăng huyết áp giai đoạn 2 (Stage 2 Hypertension)\"\n",
        "    }\n",
        "\n",
        "    label = label_map.get(pred, \"Không xác định\")\n",
        "\n",
        "    return f\"### 🔍 Kết quả: {label}\\n\\n🔹 Xác suất dự đoán: {prob_max:.2%}\"\n",
        "\n",
        "\n",
        "# ✅ Giao diện Gradio\n",
        "with gr.Blocks(theme=gr.themes.Soft()) as demo:\n",
        "    gr.Markdown(\"## 🩺 Dự đoán nguy cơ Tăng huyết áp (Random Forest)\")\n",
        "\n",
        "    with gr.Row():\n",
        "        Sex = gr.Number(label=\"Sex (0=Nữ, 1=Nam)\")\n",
        "        Age = gr.Number(label=\"Age (chuẩn hóa)\")\n",
        "        Height = gr.Number(label=\"Height (chuẩn hóa)\")\n",
        "\n",
        "    with gr.Row():\n",
        "        Weight = gr.Number(label=\"Weight (chuẩn hóa)\")\n",
        "        Systolic_BP = gr.Number(label=\"Systolic_BP (chuẩn hóa)\")\n",
        "        Diastolic_BP = gr.Number(label=\"Diastolic_BP (chuẩn hóa)\")\n",
        "        Heart_Rate = gr.Number(label=\"Heart_Rate (chuẩn hóa)\")\n",
        "        BMI = gr.Number(label=\"BMI (chuẩn hóa)\")\n",
        "\n",
        "    gr.Markdown(\"### 🧬 Tiểu đường\")\n",
        "    with gr.Row():\n",
        "        Diabetes_Diabetes = gr.Checkbox(label=\"Có tiểu đường\")\n",
        "        Diabetes_None = gr.Checkbox(label=\"Không tiểu đường\", value=True)\n",
        "        Diabetes_Type2 = gr.Checkbox(label=\"Tiểu đường Type 2\")\n",
        "\n",
        "    gr.Markdown(\"### 🧠 Bệnh não và mạch máu\")\n",
        "    with gr.Row():\n",
        "        Cerebral_infarction_None = gr.Checkbox(label=\"Không có nhồi máu não\", value=True)\n",
        "        Cerebral_infarction_infarction = gr.Checkbox(label=\"Có nhồi máu não\")\n",
        "\n",
        "    with gr.Row():\n",
        "        Cerebrovascular_None = gr.Checkbox(label=\"Không bệnh mạch máu não\", value=True)\n",
        "        Cerebrovascular_disease = gr.Checkbox(label=\"Có bệnh mạch máu não\")\n",
        "        Cerebrovascular_insuff = gr.Checkbox(label=\"Thiếu máu não tạm thời\")\n",
        "\n",
        "    btn = gr.Button(\"🔍 Dự đoán\")\n",
        "    output = gr.Markdown(label=\"Kết quả dự đoán\")\n",
        "\n",
        "    btn.click(\n",
        "        predict_hypertension,\n",
        "        inputs=[\n",
        "            Sex, Age, Height, Weight, Systolic_BP, Diastolic_BP, Heart_Rate, BMI,\n",
        "            Diabetes_Diabetes, Diabetes_None, Diabetes_Type2,\n",
        "            Cerebral_infarction_None, Cerebral_infarction_infarction,\n",
        "            Cerebrovascular_None, Cerebrovascular_disease, Cerebrovascular_insuff\n",
        "        ],\n",
        "        outputs=output\n",
        "    )\n",
        "\n",
        "demo.launch(share=True)\n"
      ]
    }
  ],
  "metadata": {
    "colab": {
      "provenance": []
    },
    "kernelspec": {
      "display_name": ".venv",
      "language": "python",
      "name": "python3"
    },
    "language_info": {
      "codemirror_mode": {
        "name": "ipython",
        "version": 3
      },
      "file_extension": ".py",
      "mimetype": "text/x-python",
      "name": "python",
      "nbconvert_exporter": "python",
      "pygments_lexer": "ipython3",
      "version": "3.13.0"
    }
  },
  "nbformat": 4,
  "nbformat_minor": 0
}
